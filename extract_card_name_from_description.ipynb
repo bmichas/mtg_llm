{
 "cells": [
  {
   "cell_type": "code",
   "execution_count": 16,
   "metadata": {},
   "outputs": [],
   "source": [
    "import pandas as pd\n",
    "import numpy as np"
   ]
  },
  {
   "cell_type": "code",
   "execution_count": 17,
   "metadata": {},
   "outputs": [],
   "source": [
    "def load_dataset(path):\n",
    "    df = pd.read_json(path).T\n",
    "    df['text'] = df['text'].astype(str).fillna('text')\n",
    "    df['manaValue'] = df['manaValue'].astype(str).fillna('manaValue')\n",
    "    df['toughness'] = df['toughness'].astype(str).fillna('toughness')\n",
    "    df['power'] = df['power'].astype(str).fillna('power')\n",
    "    df['type'] = df['type'].astype(str).fillna('type')\n",
    "    df['description'] = df['text'] + '' + df['manaValue'] + '' + df['toughness'] + '' + df['power'] + '' + df['type']\n",
    "    df_filtered = df[['description']].reset_index()\n",
    "    df_filtered.rename(columns={'index': 'card_name'}, inplace=True)\n",
    "    return df_filtered['card_name'].values, df_filtered['description'].values"
   ]
  },
  {
   "cell_type": "code",
   "execution_count": 18,
   "metadata": {},
   "outputs": [],
   "source": [
    "filepath = 'data_download/MyDataMTGv2.json'\n",
    "card_names, card_descriptions = load_dataset(filepath)"
   ]
  },
  {
   "cell_type": "code",
   "execution_count": 19,
   "metadata": {},
   "outputs": [
    {
     "data": {
      "text/plain": [
       "array(['Tukatongue Thallid', 'Moriok Replica', 'Faerie Mechanist', ...,\n",
       "       'Mogg Squad', 'Roots of Wisdom', 'Raven Guild Master'],\n",
       "      dtype=object)"
      ]
     },
     "execution_count": 19,
     "metadata": {},
     "output_type": "execute_result"
    }
   ],
   "source": [
    "card_names"
   ]
  },
  {
   "cell_type": "code",
   "execution_count": 20,
   "metadata": {},
   "outputs": [
    {
     "data": {
      "text/plain": [
       "array(['When Tukatongue Thallid dies, create a 1/1 green Saproling creature token.1.011Creature — Fungus',\n",
       "       '{1}{B}, Sacrifice Moriok Replica: You draw two cards and you lose 2 life.3.022Artifact Creature — Warrior',\n",
       "       'Flying\\nWhen Faerie Mechanist enters the battlefield, look at the top three cards of your library. You may reveal an artifact card from among them and put it into your hand. Put the rest on the bottom of your library in any order.4.022Artifact Creature — Faerie Artificer',\n",
       "       ...,\n",
       "       'Mogg Squad gets -1/-1 for each other creature on the battlefield.2.033Creature — Goblin',\n",
       "       \"Mill three cards, then return a land card or Elf card from your graveyard to your hand. If you can't, draw a card. (To mill a card, put the top card of your library into your graveyard.)2.0nannanSorcery\",\n",
       "       'Whenever Raven Guild Master deals combat damage to a player, that player exiles the top ten cards of their library.\\nMorph {2}{U}{U} (You may cast this card face down as a 2/2 creature for {3}. Turn it face up any time for its morph cost.)3.011Creature — Human Wizard Mutant'],\n",
       "      dtype=object)"
      ]
     },
     "execution_count": 20,
     "metadata": {},
     "output_type": "execute_result"
    }
   ],
   "source": [
    "card_descriptions"
   ]
  },
  {
   "cell_type": "code",
   "execution_count": 27,
   "metadata": {},
   "outputs": [
    {
     "name": "stdout",
     "output_type": "stream",
     "text": [
      "26140\n"
     ]
    }
   ],
   "source": [
    "a = 'Mogg Squad gets -1/-1 for each other creature on the battlefield.2.033Creature — Goblin'\n",
    "# a = 'When Tukatongue Thallid dies, create a 1/1 green Saproling creature token.'\n",
    "print(np.where(card_descriptions == a)[0][0])"
   ]
  },
  {
   "cell_type": "code",
   "execution_count": 13,
   "metadata": {},
   "outputs": [
    {
     "data": {
      "text/plain": [
       "'Mogg Squad'"
      ]
     },
     "execution_count": 13,
     "metadata": {},
     "output_type": "execute_result"
    }
   ],
   "source": [
    "card_names[26140]"
   ]
  },
  {
   "cell_type": "code",
   "execution_count": 34,
   "metadata": {},
   "outputs": [
    {
     "data": {
      "text/plain": [
       "'{T}: Add {C}{C}.1.0nannanArtifact'"
      ]
     },
     "execution_count": 34,
     "metadata": {},
     "output_type": "execute_result"
    }
   ],
   "source": [
    "def get_card_description(querry):\n",
    "    index = np.where(card_names == querry)[0]\n",
    "    if index:\n",
    "        return card_descriptions[index][0]\n",
    "    \n",
    "    return querry\n",
    "    \n",
    "\n",
    "\n",
    "\n",
    "querry = 'Sol Ring'\n",
    "description = get_card_description(querry)\n",
    "description"
   ]
  },
  {
   "cell_type": "code",
   "execution_count": null,
   "metadata": {},
   "outputs": [],
   "source": []
  }
 ],
 "metadata": {
  "kernelspec": {
   "display_name": "masters_degree_env",
   "language": "python",
   "name": "python3"
  },
  "language_info": {
   "codemirror_mode": {
    "name": "ipython",
    "version": 3
   },
   "file_extension": ".py",
   "mimetype": "text/x-python",
   "name": "python",
   "nbconvert_exporter": "python",
   "pygments_lexer": "ipython3",
   "version": "3.10.12"
  }
 },
 "nbformat": 4,
 "nbformat_minor": 2
}
